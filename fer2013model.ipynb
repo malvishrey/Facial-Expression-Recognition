{
 "cells": [
  {
   "cell_type": "code",
   "execution_count": 1,
   "metadata": {},
   "outputs": [
    {
     "name": "stderr",
     "output_type": "stream",
     "text": [
      "C:\\ProgramData\\Anaconda3\\lib\\site-packages\\h5py\\__init__.py:36: FutureWarning: Conversion of the second argument of issubdtype from `float` to `np.floating` is deprecated. In future, it will be treated as `np.float64 == np.dtype(float).type`.\n",
      "  from ._conv import register_converters as _register_converters\n",
      "Using TensorFlow backend.\n"
     ]
    }
   ],
   "source": [
    "import numpy as np\n",
    "import keras\n",
    "import os,cv2,sys\n",
    "import pandas as pd\n",
    "from keras.models import Sequential\n",
    "from keras.layers import Dense, Conv2D, Flatten,MaxPooling2D,AveragePooling2D,Dropout\n",
    "#from skimage.feature import local_binary_pattern\n",
    "#from scipy.stats import itemfreq\n",
    "from sklearn.preprocessing import normalize"
   ]
  },
  {
   "cell_type": "code",
   "execution_count": 2,
   "metadata": {},
   "outputs": [],
   "source": [
    "num_labels = 7\n",
    "width, height = 48, 48"
   ]
  },
  {
   "cell_type": "code",
   "execution_count": 3,
   "metadata": {},
   "outputs": [],
   "source": [
    "def facedetection(filename):\n",
    "    face_cascade = cv2.CascadeClassifier('C:\\\\Users\\\\Shrey Malvi\\\\Downloads\\\\opencv\\\\build\\\\etc\\\\haarcascades\\\\haarcascade_frontalface_default.xml')\n",
    "    cv2.imwrite('tempimg.jpg',filename)\n",
    "    \n",
    "    img1=cv2.imread('tempimg.jpg')\n",
    "    faces = face_cascade.detectMultiScale(img1, 1.3, 5)\n",
    "    index=0\n",
    "    for (x,y,w,h) in faces:\n",
    "        cropped = img1[y :y +  h , x : x + w]\n",
    "        return cropped"
   ]
  },
  {
   "cell_type": "code",
   "execution_count": 4,
   "metadata": {},
   "outputs": [],
   "source": [
    "def featureextraction(scaled):\n",
    "    y,x=scaled.shape\n",
    "    gx=np.zeros((x,y))\n",
    "    scaled = np.lib.pad(scaled, 1, 'constant', constant_values=0)\n",
    "    gy = np.zeros((x, y))\n",
    "    for i in range(y):\n",
    "        a = np.convolve(scaled[i - 1, :], [1, 0, -1], 'valid')\n",
    "        b = np.convolve(scaled[i, :], [2, 0, -2], 'valid')\n",
    "        c = np.convolve(scaled[i + 1, :], [1, 0, -1], 'valid')\n",
    "        gx[i, :] = np.sum([a, b, c], axis=0)\n",
    "    for j in range(x):\n",
    "        a = np.convolve(scaled[:, j - 1], [1, 0, -1], 'valid')\n",
    "        b = np.convolve(scaled[:, j], [2, 0, -2], 'valid')\n",
    "        c = np.convolve(scaled[:, j + 1], [1, 0, -1], 'valid')\n",
    "        gy[:, j] = np.sum([a, b, c], axis=0)\n",
    "    mag, angle = cv2.cartToPolar(gx, gy, angleInDegrees=True)\n",
    "    angle=angle%180;\n",
    "    for i in range(0,x):\n",
    "        for j in range(0,y):\n",
    "            if(angle[i,j]<=20):\n",
    "                angle[i,j]=0\n",
    "            elif(angle[i,j]<=40):\n",
    "                angle[i,j]=1\n",
    "            elif(angle[i,j]<=60):\n",
    "                angle[i,j]=2\n",
    "            elif(angle[i,j]<=80):\n",
    "                angle[i,j]=3\n",
    "            elif(angle[i,j]<=100):\n",
    "                angle[i,j]=4\n",
    "            elif(angle[i,j]<=120):\n",
    "                angle[i,j]=5\n",
    "            elif(angle[i,j]<=140):\n",
    "                angle[i,j]=6\n",
    "            elif(angle[i,j]<=160):\n",
    "                angle[i,j]=7\n",
    "            elif(angle[i,j]<=180):\n",
    "                angle[i,j]=8\n",
    "    angle=np.int64(angle)\n",
    "    mag=np.float64(mag)\n",
    "    bin_n=9\n",
    "    cells=8\n",
    "    blocks=2\n",
    "    width = scaled.shape[0]\n",
    "    height = scaled.shape[1]\n",
    "    angle=np.int64(angle)\n",
    "    mag=np.float64(mag)\n",
    "    epsilon = sys.float_info.epsilon\n",
    "    x=56\n",
    "    y=56\n",
    "    yd= np.int64(((height - (cells * blocks)) / cells) + 1)\n",
    "    xd= np.int64(((width - (cells * blocks)) / cells) + 1)\n",
    "    c=0\n",
    "    histograms = []\n",
    "    for i in range(0,xd,1):\n",
    "        for j in range(0,yd,1):\n",
    "            b_mag=mag[i*cells:i*cells+cells*blocks,j*cells:j*cells+cells*blocks]\n",
    "            b_angle=angle[i*cells:i*cells+cells*blocks,j*cells:j*cells+cells*blocks]\n",
    "            tempHists = []\n",
    "            sumHists = np.zeros((9,))\n",
    "            for m in range(0,blocks*cells,cells):\n",
    "                for n in range(0,blocks*cells,cells):\n",
    "                    c_mag=b_mag[m:m+cells,n:n+cells]\n",
    "                    c_angle=b_angle[m:m+cells,n:n+cells]\n",
    "                    tempHists.append(np.bincount(c_angle.ravel(), c_mag.ravel(), bin_n))\n",
    "                    sumHists = np.sum([sumHists, np.bincount(c_angle.ravel(),c_mag.ravel(), bin_n)], axis=0)\n",
    "            sumHists = np.sum(sumHists)\n",
    "            for hist in tempHists:\n",
    "                histograms.append(np.divide(hist, np.sqrt(np.add(np.square(sumHists), np.square(epsilon)))))        \n",
    "    hist = np.hstack(histograms)\n",
    "    return hist\n"
   ]
  },
  {
   "cell_type": "code",
   "execution_count": 5,
   "metadata": {},
   "outputs": [],
   "source": [
    "def lbp(scaled):\n",
    "    #im_gray = cv2.cvtColor(scaled, cv2.COLOR_BGR2GRAY)\n",
    "    radius = 5\n",
    "    no_points = 8 * radius\n",
    "    lbp = local_binary_pattern(scaled, no_points, radius, method='uniform')\n",
    "    x = itemfreq(lbp.ravel())\n",
    "    hist = x[:, 1]/sum(x[:, 1])\n",
    "    print(len(hist))\n",
    "    return hist"
   ]
  },
  {
   "cell_type": "code",
   "execution_count": 6,
   "metadata": {},
   "outputs": [],
   "source": [
    "data = pd.read_csv('./fer2013.csv')"
   ]
  },
  {
   "cell_type": "code",
   "execution_count": 20,
   "metadata": {
    "scrolled": true
   },
   "outputs": [
    {
     "data": {
      "text/html": [
       "<div>\n",
       "<style scoped>\n",
       "    .dataframe tbody tr th:only-of-type {\n",
       "        vertical-align: middle;\n",
       "    }\n",
       "\n",
       "    .dataframe tbody tr th {\n",
       "        vertical-align: top;\n",
       "    }\n",
       "\n",
       "    .dataframe thead th {\n",
       "        text-align: right;\n",
       "    }\n",
       "</style>\n",
       "<table border=\"1\" class=\"dataframe\">\n",
       "  <thead>\n",
       "    <tr style=\"text-align: right;\">\n",
       "      <th></th>\n",
       "      <th>emotion</th>\n",
       "      <th>pixels</th>\n",
       "      <th>Usage</th>\n",
       "    </tr>\n",
       "  </thead>\n",
       "  <tbody>\n",
       "    <tr>\n",
       "      <th>0</th>\n",
       "      <td>0</td>\n",
       "      <td>70 80 82 72 58 58 60 63 54 58 60 48 89 115 121...</td>\n",
       "      <td>Training</td>\n",
       "    </tr>\n",
       "    <tr>\n",
       "      <th>1</th>\n",
       "      <td>0</td>\n",
       "      <td>151 150 147 155 148 133 111 140 170 174 182 15...</td>\n",
       "      <td>Training</td>\n",
       "    </tr>\n",
       "    <tr>\n",
       "      <th>2</th>\n",
       "      <td>2</td>\n",
       "      <td>231 212 156 164 174 138 161 173 182 200 106 38...</td>\n",
       "      <td>Training</td>\n",
       "    </tr>\n",
       "    <tr>\n",
       "      <th>3</th>\n",
       "      <td>4</td>\n",
       "      <td>24 32 36 30 32 23 19 20 30 41 21 22 32 34 21 1...</td>\n",
       "      <td>Training</td>\n",
       "    </tr>\n",
       "    <tr>\n",
       "      <th>4</th>\n",
       "      <td>6</td>\n",
       "      <td>4 0 0 0 0 0 0 0 0 0 0 0 3 15 23 28 48 50 58 84...</td>\n",
       "      <td>Training</td>\n",
       "    </tr>\n",
       "  </tbody>\n",
       "</table>\n",
       "</div>"
      ],
      "text/plain": [
       "   emotion                                             pixels     Usage\n",
       "0        0  70 80 82 72 58 58 60 63 54 58 60 48 89 115 121...  Training\n",
       "1        0  151 150 147 155 148 133 111 140 170 174 182 15...  Training\n",
       "2        2  231 212 156 164 174 138 161 173 182 200 106 38...  Training\n",
       "3        4  24 32 36 30 32 23 19 20 30 41 21 22 32 34 21 1...  Training\n",
       "4        6  4 0 0 0 0 0 0 0 0 0 0 0 3 15 23 28 48 50 58 84...  Training"
      ]
     },
     "execution_count": 20,
     "metadata": {},
     "output_type": "execute_result"
    }
   ],
   "source": [
    "data.head()"
   ]
  },
  {
   "cell_type": "code",
   "execution_count": 25,
   "metadata": {},
   "outputs": [
    {
     "name": "stderr",
     "output_type": "stream",
     "text": [
      "C:\\ProgramData\\Anaconda3\\lib\\site-packages\\ipykernel_launcher.py:10: FutureWarning: Method .as_matrix will be removed in a future version. Use .values instead.\n",
      "  # Remove the CWD from sys.path while we load stuff.\n"
     ]
    }
   ],
   "source": [
    "pixels = data['pixels'].tolist() \n",
    "faces = []\n",
    "for pixel_sequence in pixels:\n",
    "    face = [int(pixel) for pixel in pixel_sequence.split(' ')] \n",
    "    face=np.asarray(face).reshape(width,height)\n",
    "    input_fx=featureextraction(face)\n",
    "    faces.append(input_fx)\n",
    "faces = np.asarray(faces)\n",
    "faces = np.expand_dims(faces, -1) \n",
    "emotions = pd.get_dummies(data['emotion']).as_matrix()"
   ]
  },
  {
   "cell_type": "code",
   "execution_count": 22,
   "metadata": {},
   "outputs": [
    {
     "name": "stdout",
     "output_type": "stream",
     "text": [
      "(35887, 1)\n"
     ]
    }
   ],
   "source": [
    "print(faces.shape)\n",
    "#faces=faces.reshape((35887,900))"
   ]
  },
  {
   "cell_type": "code",
   "execution_count": 23,
   "metadata": {},
   "outputs": [],
   "source": [
    "from sklearn.model_selection import train_test_split\n",
    "X_train, X_test, y_train, y_test = train_test_split(faces, emotions, test_size=0.1, random_state=42)\n",
    "X_train, X_val, y_train, y_val = train_test_split(X_train, y_train, test_size=0.1, random_state=41)"
   ]
  },
  {
   "cell_type": "code",
   "execution_count": 25,
   "metadata": {},
   "outputs": [
    {
     "name": "stdout",
     "output_type": "stream",
     "text": [
      "(29068, 1)\n"
     ]
    }
   ],
   "source": [
    "print(X_train.shape)"
   ]
  },
  {
   "cell_type": "code",
   "execution_count": 19,
   "metadata": {},
   "outputs": [],
   "source": [
    "from keras.models import Sequential\n",
    "from keras.layers import Dense, Activation\n",
    "#mlp = MLPClassifier(hidden_layer_sizes=(128,64,32),activation='relu',learning_rate_init=0.001,max_iter=200,batch_size=75,verbose=2)\n",
    "#mlp.compile(loss='categorical_crossentropy', optimizer='RMSprop', metrics=['accuracy'])\n",
    "#mlp.fit(X_train,y_train)\n",
    "model = Sequential()\n",
    "model.add(Dense(128, activation='relu'))\n",
    "model.add(Dense(64, activation='relu'))\n",
    "model.add(Dense(7, activation='softmax'))\n",
    "model.compile(optimizer='rmsprop',loss='categorical_crossentropy',metrics=['accuracy'])"
   ]
  },
  {
   "cell_type": "code",
   "execution_count": 20,
   "metadata": {},
   "outputs": [
    {
     "name": "stdout",
     "output_type": "stream",
     "text": [
      "Epoch 1/100\n",
      "29068/29068 [==============================] - 3s 117us/step - loss: 1.6337 - acc: 0.3554\n",
      "Epoch 2/100\n",
      "29068/29068 [==============================] - 2s 60us/step - loss: 1.5213 - acc: 0.4110\n",
      "Epoch 3/100\n",
      "29068/29068 [==============================] - 2s 59us/step - loss: 1.4768 - acc: 0.4270\n",
      "Epoch 4/100\n",
      "29068/29068 [==============================] - 2s 59us/step - loss: 1.4445 - acc: 0.4386\n",
      "Epoch 5/100\n",
      "29068/29068 [==============================] - 2s 63us/step - loss: 1.4139 - acc: 0.4524\n",
      "Epoch 6/100\n",
      "29068/29068 [==============================] - 2s 60us/step - loss: 1.3854 - acc: 0.4629\n",
      "Epoch 7/100\n",
      "29068/29068 [==============================] - 2s 72us/step - loss: 1.3520 - acc: 0.4782\n",
      "Epoch 8/100\n",
      "29068/29068 [==============================] - 2s 64us/step - loss: 1.3232 - acc: 0.4936\n",
      "Epoch 9/100\n",
      "29068/29068 [==============================] - 2s 80us/step - loss: 1.2943 - acc: 0.5051\n",
      "Epoch 10/100\n",
      "29068/29068 [==============================] - 2s 58us/step - loss: 1.2656 - acc: 0.5182\n",
      "Epoch 11/100\n",
      "29068/29068 [==============================] - 2s 58us/step - loss: 1.2355 - acc: 0.5330\n",
      "Epoch 12/100\n",
      "29068/29068 [==============================] - 2s 59us/step - loss: 1.2074 - acc: 0.5400\n",
      "Epoch 13/100\n",
      "29068/29068 [==============================] - 2s 64us/step - loss: 1.1799 - acc: 0.5540\n",
      "Epoch 14/100\n",
      "29068/29068 [==============================] - 2s 61us/step - loss: 1.1539 - acc: 0.5655\n",
      "Epoch 15/100\n",
      "29068/29068 [==============================] - 2s 60us/step - loss: 1.1304 - acc: 0.5740\n",
      "Epoch 16/100\n",
      "29068/29068 [==============================] - 2s 61us/step - loss: 1.1018 - acc: 0.5887\n",
      "Epoch 17/100\n",
      "29068/29068 [==============================] - 2s 60us/step - loss: 1.0789 - acc: 0.5953\n",
      "Epoch 18/100\n",
      "29068/29068 [==============================] - 2s 61us/step - loss: 1.0553 - acc: 0.6061\n",
      "Epoch 19/100\n",
      "29068/29068 [==============================] - 2s 61us/step - loss: 1.0333 - acc: 0.6161\n",
      "Epoch 20/100\n",
      "29068/29068 [==============================] - 2s 61us/step - loss: 1.0107 - acc: 0.6264\n",
      "Epoch 21/100\n",
      "29068/29068 [==============================] - 2s 64us/step - loss: 0.9898 - acc: 0.6346\n",
      "Epoch 22/100\n",
      "29068/29068 [==============================] - 2s 60us/step - loss: 0.9678 - acc: 0.6426\n",
      "Epoch 23/100\n",
      "29068/29068 [==============================] - 2s 63us/step - loss: 0.9448 - acc: 0.6509\n",
      "Epoch 24/100\n",
      "29068/29068 [==============================] - 2s 63us/step - loss: 0.9240 - acc: 0.6609\n",
      "Epoch 25/100\n",
      "29068/29068 [==============================] - 2s 62us/step - loss: 0.9051 - acc: 0.6663\n",
      "Epoch 26/100\n",
      "29068/29068 [==============================] - 2s 64us/step - loss: 0.8905 - acc: 0.6740\n",
      "Epoch 27/100\n",
      "29068/29068 [==============================] - 2s 61us/step - loss: 0.8673 - acc: 0.6831\n",
      "Epoch 28/100\n",
      "29068/29068 [==============================] - 2s 65us/step - loss: 0.8529 - acc: 0.6903\n",
      "Epoch 29/100\n",
      "29068/29068 [==============================] - 2s 61us/step - loss: 0.8306 - acc: 0.6983\n",
      "Epoch 30/100\n",
      "29068/29068 [==============================] - 2s 61us/step - loss: 0.8176 - acc: 0.7037\n",
      "Epoch 31/100\n",
      "29068/29068 [==============================] - 2s 62us/step - loss: 0.7995 - acc: 0.7077\n",
      "Epoch 32/100\n",
      "29068/29068 [==============================] - 2s 62us/step - loss: 0.7840 - acc: 0.7155\n",
      "Epoch 33/100\n",
      "29068/29068 [==============================] - 2s 64us/step - loss: 0.7669 - acc: 0.7203\n",
      "Epoch 34/100\n",
      "29068/29068 [==============================] - 2s 61us/step - loss: 0.7509 - acc: 0.7266\n",
      "Epoch 35/100\n",
      "29068/29068 [==============================] - 2s 61us/step - loss: 0.7381 - acc: 0.7320\n",
      "Epoch 36/100\n",
      "29068/29068 [==============================] - 2s 65us/step - loss: 0.7219 - acc: 0.7343\n",
      "Epoch 37/100\n",
      "29068/29068 [==============================] - 2s 62us/step - loss: 0.7090 - acc: 0.7404\n",
      "Epoch 38/100\n",
      "29068/29068 [==============================] - 2s 62us/step - loss: 0.6958 - acc: 0.7467\n",
      "Epoch 39/100\n",
      "29068/29068 [==============================] - 2s 62us/step - loss: 0.6810 - acc: 0.7531\n",
      "Epoch 40/100\n",
      "29068/29068 [==============================] - 2s 64us/step - loss: 0.6663 - acc: 0.7582\n",
      "Epoch 41/100\n",
      "29068/29068 [==============================] - 2s 62us/step - loss: 0.6537 - acc: 0.7610\n",
      "Epoch 42/100\n",
      "29068/29068 [==============================] - 2s 66us/step - loss: 0.6408 - acc: 0.7649\n",
      "Epoch 43/100\n",
      "29068/29068 [==============================] - 2s 72us/step - loss: 0.6287 - acc: 0.7706\n",
      "Epoch 44/100\n",
      "29068/29068 [==============================] - 1s 51us/step - loss: 0.6156 - acc: 0.7755\n",
      "Epoch 45/100\n",
      "29068/29068 [==============================] - 2s 62us/step - loss: 0.6080 - acc: 0.7811\n",
      "Epoch 46/100\n",
      "29068/29068 [==============================] - 2s 59us/step - loss: 0.5891 - acc: 0.7852\n",
      "Epoch 47/100\n",
      "29068/29068 [==============================] - 2s 59us/step - loss: 0.5736 - acc: 0.7926\n",
      "Epoch 48/100\n",
      "29068/29068 [==============================] - 2s 54us/step - loss: 0.5646 - acc: 0.7947\n",
      "Epoch 49/100\n",
      "29068/29068 [==============================] - 2s 56us/step - loss: 0.5547 - acc: 0.7981\n",
      "Epoch 50/100\n",
      "29068/29068 [==============================] - 1s 51us/step - loss: 0.5448 - acc: 0.8037\n",
      "Epoch 51/100\n",
      "29068/29068 [==============================] - 2s 60us/step - loss: 0.5331 - acc: 0.8079\n",
      "Epoch 52/100\n",
      "29068/29068 [==============================] - 2s 63us/step - loss: 0.5219 - acc: 0.8104\n",
      "Epoch 53/100\n",
      "29068/29068 [==============================] - 2s 63us/step - loss: 0.5094 - acc: 0.8175\n",
      "Epoch 54/100\n",
      "29068/29068 [==============================] - 2s 71us/step - loss: 0.4999 - acc: 0.8196\n",
      "Epoch 55/100\n",
      "29068/29068 [==============================] - 2s 70us/step - loss: 0.4876 - acc: 0.8257\n",
      "Epoch 56/100\n",
      "29068/29068 [==============================] - 2s 72us/step - loss: 0.4805 - acc: 0.8287\n",
      "Epoch 57/100\n",
      "29068/29068 [==============================] - 2s 67us/step - loss: 0.4673 - acc: 0.8297\n",
      "Epoch 58/100\n",
      "29068/29068 [==============================] - 2s 67us/step - loss: 0.4579 - acc: 0.8351\n",
      "Epoch 59/100\n",
      "29068/29068 [==============================] - 2s 64us/step - loss: 0.4509 - acc: 0.8389\n",
      "Epoch 60/100\n",
      "29068/29068 [==============================] - 2s 63us/step - loss: 0.4436 - acc: 0.8405\n",
      "Epoch 61/100\n",
      "29068/29068 [==============================] - 2s 64us/step - loss: 0.4310 - acc: 0.8452\n",
      "Epoch 62/100\n",
      "29068/29068 [==============================] - 2s 63us/step - loss: 0.4253 - acc: 0.8467\n",
      "Epoch 63/100\n",
      "29068/29068 [==============================] - 2s 67us/step - loss: 0.4137 - acc: 0.8511\n",
      "Epoch 64/100\n",
      "29068/29068 [==============================] - 2s 67us/step - loss: 0.4037 - acc: 0.8549\n",
      "Epoch 65/100\n",
      "29068/29068 [==============================] - 2s 72us/step - loss: 0.3937 - acc: 0.8593\n",
      "Epoch 66/100\n",
      "29068/29068 [==============================] - 2s 62us/step - loss: 0.3865 - acc: 0.8625\n",
      "Epoch 67/100\n",
      "29068/29068 [==============================] - 2s 61us/step - loss: 0.3832 - acc: 0.8619\n",
      "Epoch 68/100\n",
      "29068/29068 [==============================] - 2s 65us/step - loss: 0.3680 - acc: 0.8689\n",
      "Epoch 69/100\n",
      "29068/29068 [==============================] - 2s 65us/step - loss: 0.3674 - acc: 0.8682\n",
      "Epoch 70/100\n",
      "29068/29068 [==============================] - 2s 66us/step - loss: 0.3574 - acc: 0.8700\n",
      "Epoch 71/100\n",
      "29068/29068 [==============================] - 2s 64us/step - loss: 0.3470 - acc: 0.8759\n",
      "Epoch 72/100\n",
      "29068/29068 [==============================] - 2s 71us/step - loss: 0.3417 - acc: 0.8770\n",
      "Epoch 73/100\n",
      "29068/29068 [==============================] - 2s 71us/step - loss: 0.3365 - acc: 0.8787\n",
      "Epoch 74/100\n",
      "29068/29068 [==============================] - 2s 68us/step - loss: 0.3302 - acc: 0.8840\n",
      "Epoch 75/100\n",
      "29068/29068 [==============================] - 2s 67us/step - loss: 0.3229 - acc: 0.8841\n",
      "Epoch 76/100\n",
      "29068/29068 [==============================] - 2s 66us/step - loss: 0.3143 - acc: 0.8859\n",
      "Epoch 77/100\n",
      "29068/29068 [==============================] - 2s 67us/step - loss: 0.3131 - acc: 0.8881\n",
      "Epoch 78/100\n",
      "29068/29068 [==============================] - 2s 65us/step - loss: 0.3013 - acc: 0.8923\n",
      "Epoch 79/100\n",
      "29068/29068 [==============================] - 2s 64us/step - loss: 0.2923 - acc: 0.8973\n",
      "Epoch 80/100\n",
      "29068/29068 [==============================] - 2s 75us/step - loss: 0.2903 - acc: 0.8963\n",
      "Epoch 81/100\n",
      "29068/29068 [==============================] - 2s 57us/step - loss: 0.2836 - acc: 0.8969\n",
      "Epoch 82/100\n",
      "29068/29068 [==============================] - 2s 60us/step - loss: 0.2820 - acc: 0.8977\n",
      "Epoch 83/100\n",
      "29068/29068 [==============================] - 2s 61us/step - loss: 0.2759 - acc: 0.9019\n",
      "Epoch 84/100\n",
      "29068/29068 [==============================] - 2s 61us/step - loss: 0.2668 - acc: 0.9047\n",
      "Epoch 85/100\n",
      "29068/29068 [==============================] - 2s 61us/step - loss: 0.2646 - acc: 0.9071\n",
      "Epoch 86/100\n",
      "29068/29068 [==============================] - 2s 60us/step - loss: 0.2557 - acc: 0.9091\n",
      "Epoch 87/100\n",
      "29068/29068 [==============================] - 2s 60us/step - loss: 0.2515 - acc: 0.9096\n",
      "Epoch 88/100\n",
      "29068/29068 [==============================] - 2s 61us/step - loss: 0.2439 - acc: 0.9127\n",
      "Epoch 89/100\n",
      "29068/29068 [==============================] - 2s 61us/step - loss: 0.2410 - acc: 0.9133\n",
      "Epoch 90/100\n",
      "29068/29068 [==============================] - 2s 61us/step - loss: 0.2361 - acc: 0.9161\n",
      "Epoch 91/100\n",
      "29068/29068 [==============================] - 2s 62us/step - loss: 0.2330 - acc: 0.9176\n",
      "Epoch 92/100\n",
      "29068/29068 [==============================] - 2s 61us/step - loss: 0.2263 - acc: 0.9190\n",
      "Epoch 93/100\n",
      "29068/29068 [==============================] - 2s 62us/step - loss: 0.2253 - acc: 0.9203\n",
      "Epoch 94/100\n",
      "29068/29068 [==============================] - 2s 62us/step - loss: 0.2160 - acc: 0.9224\n",
      "Epoch 95/100\n",
      "29068/29068 [==============================] - 2s 61us/step - loss: 0.2170 - acc: 0.9231:\n",
      "Epoch 96/100\n",
      "29068/29068 [==============================] - 2s 62us/step - loss: 0.2160 - acc: 0.9223\n",
      "Epoch 97/100\n",
      "29068/29068 [==============================] - 2s 62us/step - loss: 0.2050 - acc: 0.9276\n",
      "Epoch 98/100\n",
      "29068/29068 [==============================] - 2s 62us/step - loss: 0.2044 - acc: 0.9279\n",
      "Epoch 99/100\n",
      "29068/29068 [==============================] - 2s 62us/step - loss: 0.1996 - acc: 0.9293\n",
      "Epoch 100/100\n",
      "29068/29068 [==============================] - 2s 61us/step - loss: 0.2001 - acc: 0.9292\n"
     ]
    },
    {
     "data": {
      "text/plain": [
       "<keras.callbacks.History at 0x2c1a1018ba8>"
      ]
     },
     "execution_count": 20,
     "metadata": {},
     "output_type": "execute_result"
    }
   ],
   "source": [
    "model.fit(X_train, y_train, epochs=100, batch_size=50)"
   ]
  },
  {
   "cell_type": "code",
   "execution_count": 29,
   "metadata": {},
   "outputs": [
    {
     "name": "stdout",
     "output_type": "stream",
     "text": [
      "3589/3589 [==============================] - 0s 29us/step\n",
      "Test Acc: 0.42853162444112824\n",
      "[[1. 0. 0. ... 0. 0. 0.]\n",
      " [0. 0. 0. ... 0. 0. 0.]\n",
      " [0. 0. 0. ... 0. 0. 0.]\n",
      " ...\n",
      " [0. 0. 0. ... 0. 1. 0.]\n",
      " [0. 0. 1. ... 0. 0. 0.]\n",
      " [1. 0. 0. ... 0. 0. 0.]]\n"
     ]
    }
   ],
   "source": [
    "predictions=model.predict(X_test)\n",
    "acc = model.evaluate(X_test, y_test)\n",
    "print('Test Acc:', acc[1])\n",
    "print(np.round(predictions))"
   ]
  },
  {
   "cell_type": "code",
   "execution_count": 21,
   "metadata": {},
   "outputs": [],
   "source": [
    "model.save('my_model.h5') "
   ]
  },
  {
   "cell_type": "code",
   "execution_count": 1,
   "metadata": {},
   "outputs": [],
   "source": [
    "#model = load_model('TL2.h5')"
   ]
  },
  {
   "cell_type": "raw",
   "metadata": {},
   "source": []
  },
  {
   "cell_type": "code",
   "execution_count": 5,
   "metadata": {
    "scrolled": true
   },
   "outputs": [
    {
     "name": "stdout",
     "output_type": "stream",
     "text": [
      "WARNING:tensorflow:From C:\\ProgramData\\Anaconda3\\lib\\site-packages\\tensorflow\\python\\framework\\op_def_library.py:263: colocate_with (from tensorflow.python.framework.ops) is deprecated and will be removed in a future version.\n",
      "Instructions for updating:\n",
      "Colocations handled automatically by placer.\n",
      "WARNING:tensorflow:From C:\\ProgramData\\Anaconda3\\lib\\site-packages\\keras\\backend\\tensorflow_backend.py:3445: calling dropout (from tensorflow.python.ops.nn_ops) with keep_prob is deprecated and will be removed in a future version.\n",
      "Instructions for updating:\n",
      "Please use `rate` instead of `keep_prob`. Rate should be set to `rate = 1 - keep_prob`.\n",
      "WARNING:tensorflow:From C:\\ProgramData\\Anaconda3\\lib\\site-packages\\tensorflow\\python\\ops\\math_ops.py:3066: to_int32 (from tensorflow.python.ops.math_ops) is deprecated and will be removed in a future version.\n",
      "Instructions for updating:\n",
      "Use tf.cast instead.\n"
     ]
    }
   ],
   "source": [
    "from keras.models import load_model\n",
    "import cv2\n",
    "emotion_dict = {0: \"Angry\", 1: \"Disgust\", 2: \"Fear\", 3: \"Happy\", 4: \"Sad\", 5: \"Surprise\", 6: \"Neutral\"}\n",
    "\n",
    "model = load_model('Tl2.h5')\n",
    "\n",
    "cap = cv2.VideoCapture(0)\n",
    "\n",
    "while True:\n",
    "    ret, frame = cap.read()\n",
    "    gray = cv2.cvtColor(frame, cv2.COLOR_BGR2GRAY)\n",
    "\n",
    "    face_cascade = cv2.CascadeClassifier('C:\\\\Users\\\\Shrey Malvi\\\\Downloads\\\\opencv\\\\build\\\\etc\\\\haarcascades\\\\haarcascade_frontalface_default.xml')\n",
    "    faces = face_cascade.detectMultiScale(gray, 1.3, 5)\n",
    "\n",
    "    for (x, y, w, h) in faces:\n",
    "        cv2.rectangle(frame, (x, y), (x + w, y + h), (0, 255, 0), 1)\n",
    "        roi_gray = gray[y:y + h, x:x + w]\n",
    "        cropped_img = cv2.resize(roi_gray, (48, 48))\n",
    "        #cropped_img = cv2.resize(roi_gray, (48, 48))\n",
    "        #face=np.asarray(cropped_img).reshape(1,48,48,3)\n",
    "        face = np.repeat(cropped_img[..., np.newaxis], 3, -1)\n",
    "        face=np.reshape(face,(1,48,48,3))\n",
    "        #cropped_img1=featureextraction(cropped_img)\n",
    "        #yp=cropped_img1.reshape((1,900))\n",
    "        prediction = model.predict(face)\n",
    "        #cropped_img1=featureextraction(cropped_img)\n",
    "        #yp=cropped_img1.reshape((1,900))\n",
    "        #prediction = model.predict(yp)\n",
    "        cv2.putText(frame, emotion_dict[int(np.argmax(prediction))], (x, y), cv2.FONT_HERSHEY_SIMPLEX, 0.8, (0, 255, 0), 1, cv2.LINE_AA)\n",
    "\n",
    "    cv2.imshow('frame', frame)\n",
    "    if cv2.waitKey(1) & 0xFF == ord('q'):\n",
    "        break\n",
    "\n",
    "cap.release()\n",
    "cv2.destroyAllWindows()"
   ]
  },
  {
   "cell_type": "code",
   "execution_count": 30,
   "metadata": {},
   "outputs": [
    {
     "name": "stdout",
     "output_type": "stream",
     "text": [
      "(48, 48)\n",
      "[0.0390625  0.01866319 0.01953125 0.01041667 0.02256944 0.01909722\n",
      " 0.02690972 0.02907986 0.03472222 0.04730903 0.06684028 0.07118056\n",
      " 0.06987847 0.05208333 0.02430556 0.02126736 0.01605903 0.0078125\n",
      " 0.00737847 0.00954861 0.00694444 0.01302083 0.01432292 0.015625\n",
      " 0.02213542 0.31423611]\n"
     ]
    },
    {
     "name": "stderr",
     "output_type": "stream",
     "text": [
      "C:\\ProgramData\\Anaconda3\\lib\\site-packages\\ipykernel_launcher.py:9: DeprecationWarning: `itemfreq` is deprecated!\n",
      "`itemfreq` is deprecated and will be removed in a future version. Use instead `np.unique(..., return_counts=True)`\n",
      "  if __name__ == '__main__':\n"
     ]
    }
   ],
   "source": [
    "img=cv2.imread('0.png')\n",
    "\n",
    "im_gray = cv2.cvtColor(img, cv2.COLOR_BGR2GRAY)\n",
    "im_gray=cv2.resize(im_gray,(48,48))\n",
    "print(im_gray.shape)\n",
    "radius = 3\n",
    "no_points = 8 * radius\n",
    "lbp = local_binary_pattern(im_gray, no_points, radius, method='uniform')\n",
    "x = itemfreq(lbp.ravel())\n",
    "hist = x[:, 1]/sum(x[:, 1])\n",
    "print(hist)"
   ]
  },
  {
   "cell_type": "code",
   "execution_count": 10,
   "metadata": {},
   "outputs": [
    {
     "name": "stdout",
     "output_type": "stream",
     "text": [
      "31\n"
     ]
    }
   ],
   "source": [
    "import cv2\n",
    "import numpy as np\n",
    "img=cv2.imread('1.png')\n",
    "height=48\n",
    "width=48\n",
    "gray = cv2.cvtColor(img, cv2.COLOR_RGB2GRAY)\n",
    "scaled = cv2.resize(gray, (height, width))\n",
    "sift = \n",
    "kp, des = sift.detectAndCompute(scaled,None)\n",
    "\n"
   ]
  },
  {
   "cell_type": "code",
   "execution_count": 12,
   "metadata": {},
   "outputs": [
    {
     "name": "stdout",
     "output_type": "stream",
     "text": [
      "(31, 128)\n"
     ]
    }
   ],
   "source": [
    "print(des.shape)"
   ]
  },
  {
   "cell_type": "code",
   "execution_count": 21,
   "metadata": {},
   "outputs": [],
   "source": [
    "def sift(scaled):\n",
    "    sift = cv2.xfeatures2d.SIFT_create()\n",
    "    kp, des = sift.detectAndCompute(scaled,None)\n",
    "    return(des.ravel())"
   ]
  },
  {
   "cell_type": "code",
   "execution_count": null,
   "metadata": {},
   "outputs": [],
   "source": []
  }
 ],
 "metadata": {
  "kernelspec": {
   "display_name": "Python 3",
   "language": "python",
   "name": "python3"
  },
  "language_info": {
   "codemirror_mode": {
    "name": "ipython",
    "version": 3
   },
   "file_extension": ".py",
   "mimetype": "text/x-python",
   "name": "python",
   "nbconvert_exporter": "python",
   "pygments_lexer": "ipython3",
   "version": "3.6.0"
  }
 },
 "nbformat": 4,
 "nbformat_minor": 2
}
