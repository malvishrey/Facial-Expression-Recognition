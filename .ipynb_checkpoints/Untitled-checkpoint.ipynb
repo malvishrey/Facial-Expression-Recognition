{
 "cells": [
  {
   "cell_type": "code",
   "execution_count": 7,
   "metadata": {},
   "outputs": [
    {
     "name": "stdout",
     "output_type": "stream",
     "text": [
      "[[ 43.92385842  78.04287629  83.19172681 ...  84.73840363  82.78648167\n",
      "  104.84740987]\n",
      " [  8.49800094  36.86371287  46.69330127 ...  64.28721529  25.6438929\n",
      "  183.63228687]\n",
      " [  3.87056387  23.10107307  32.46551653 ...  79.69524172  44.99045634\n",
      "  165.46375107]\n",
      " ...\n",
      " [  0.          78.68979429  28.1787925  ...  44.99045634  27.09704795\n",
      "  179.19808045]\n",
      " [329.03993579 241.55721225 329.7462414  ...  16.7021725  334.13094336\n",
      "  183.82835879]\n",
      " [341.56132286 256.37167952 293.70669567 ... 270.45917777 271.80718088\n",
      "  225.51114599]]\n"
     ]
    }
   ],
   "source": [
    "import cv2\n",
    "import numpy as np\n",
    "np.set_printoptions(threshold=np.inf)\n",
    "img=cv2.imread('1.png')\n",
    "height=56\n",
    "width=56\n",
    "img = np.array(img, dtype=np.uint8)\n",
    "gray = cv2.cvtColor(img, cv2.COLOR_RGB2GRAY)\n",
    "scaled = cv2.resize(gray, (height, width))\n",
    "y,x=scaled.shape\n",
    "gx=np.zeros((x,y))\n",
    "scaled = np.lib.pad(scaled, 1, 'constant', constant_values=0)\n",
    "gy = np.zeros((x, y))\n",
    "for i in range(y):\n",
    "    a = np.convolve(scaled[i - 1, :], [1, 0, -1], 'valid')\n",
    "    b = np.convolve(scaled[i, :], [2, 0, -2], 'valid')\n",
    "    c = np.convolve(scaled[i + 1, :], [1, 0, -1], 'valid')\n",
    "    gx[i, :] = np.sum([a, b, c], axis=0)\n",
    "for j in range(x):\n",
    "    a = np.convolve(scaled[:, j - 1], [1, 0, -1], 'valid')\n",
    "    b = np.convolve(scaled[:, j], [2, 0, -2], 'valid')\n",
    "    c = np.convolve(scaled[:, j + 1], [1, 0, -1], 'valid')\n",
    "    gy[:, j] = np.sum([a, b, c], axis=0)\n",
    "magnitude=np.sqrt(gx**2+gy**2)\n",
    "mag, angle = cv2.cartToPolar(gx, gy, angleInDegrees=True)\n",
    "print(angle)\n"
   ]
  },
  {
   "cell_type": "code",
   "execution_count": null,
   "metadata": {},
   "outputs": [],
   "source": []
  },
  {
   "cell_type": "code",
   "execution_count": null,
   "metadata": {},
   "outputs": [],
   "source": []
  }
 ],
 "metadata": {
  "kernelspec": {
   "display_name": "Python 3",
   "language": "python",
   "name": "python3"
  }
 },
 "nbformat": 4,
 "nbformat_minor": 2
}
